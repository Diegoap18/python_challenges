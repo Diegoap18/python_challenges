{
 "cells": [
  {
   "cell_type": "markdown",
   "id": "8fdb30ad",
   "metadata": {},
   "source": [
    "Challenge online - Camera on / Share screen You can use any library \n",
    "Use preferably your memory; but if you don't remember the syntax feel free to google"
   ]
  },
  {
   "cell_type": "markdown",
   "id": "c04dda0e",
   "metadata": {},
   "source": [
    "1 - Create a Python list with all integer numbers from 1 to 100\n",
    "\n",
    "2 - Create a Python list with all integer numbers from 1 to 9\n",
    "\n",
    "3 - Reshape the existing list (don't create from scratch) to look like a 3X3 matrix\n",
    "\n",
    "4 - The Fibonacci sequence: each number is the sum of the two preceding ones. The sequence starts from 0 and 1.\n",
    "0, 1, 1, 2, 3, 5, 8, 13, 21, 34, 55, 89, 144\n",
    "\n",
    "Write a function that takes n as input and returns the first n Fibonacci sequence numbers\n",
    "\n",
    "\n",
    "test:\n",
    "fib(20)=4181"
   ]
  },
  {
   "cell_type": "code",
   "execution_count": 38,
   "id": "96c5b466",
   "metadata": {},
   "outputs": [],
   "source": [
    "#resposta da 1\n",
    "list_of_numbers = list(range(1, 101))\n",
    "\n",
    "#list_of_numbers\n"
   ]
  },
  {
   "cell_type": "code",
   "execution_count": 39,
   "id": "38e9d5eb",
   "metadata": {},
   "outputs": [
    {
     "data": {
      "text/plain": [
       "[1, 2, 3, 4, 5, 6, 7, 8, 9]"
      ]
     },
     "execution_count": 39,
     "metadata": {},
     "output_type": "execute_result"
    }
   ],
   "source": [
    "#resposta da 2\n",
    "list_of_numbers2 = list(range(1, 10))\n",
    "\n",
    "list_of_numbers2"
   ]
  },
  {
   "cell_type": "code",
   "execution_count": 42,
   "id": "87e85d69",
   "metadata": {},
   "outputs": [
    {
     "data": {
      "text/plain": [
       "array([[1, 4, 7],\n",
       "       [2, 5, 8],\n",
       "       [3, 6, 9]])"
      ]
     },
     "execution_count": 42,
     "metadata": {},
     "output_type": "execute_result"
    }
   ],
   "source": [
    "#resposta da 3\n",
    "# import numpy library\n",
    "import numpy as np\n",
    "\n",
    "np_array=np.asarray(list_of_numbers2)\n",
    "# reshape array into 3 rows x 3 columns, and transpose the result\n",
    "reshaped_array = np_array.reshape(3, 3).T \n",
    "\n",
    "#check the result\n",
    "reshaped_array\n"
   ]
  },
  {
   "cell_type": "code",
   "execution_count": 40,
   "id": "b11c0d59",
   "metadata": {},
   "outputs": [
    {
     "name": "stdout",
     "output_type": "stream",
     "text": [
      "4181\n"
     ]
    }
   ],
   "source": [
    "#resposta pergunta 4\n",
    "def fibonacci(n):\n",
    "    a = 0\n",
    "    b = 1\n",
    "    if n < 0:\n",
    "        print(\"Incorrect input\")\n",
    "    elif n == 0:\n",
    "        return a\n",
    "    elif n == 1:\n",
    "        return b\n",
    "    else:\n",
    "        for i in range(2, n+1):\n",
    "            c = a + b\n",
    "            a = b\n",
    "            b = c\n",
    "        return b\n",
    "  \n",
    "\n",
    "  \n",
    "print(fibonacci(19))"
   ]
  }
 ],
 "metadata": {
  "kernelspec": {
   "display_name": "Python 3 (ipykernel)",
   "language": "python",
   "name": "python3"
  },
  "language_info": {
   "codemirror_mode": {
    "name": "ipython",
    "version": 3
   },
   "file_extension": ".py",
   "mimetype": "text/x-python",
   "name": "python",
   "nbconvert_exporter": "python",
   "pygments_lexer": "ipython3",
   "version": "3.10.9"
  }
 },
 "nbformat": 4,
 "nbformat_minor": 5
}
